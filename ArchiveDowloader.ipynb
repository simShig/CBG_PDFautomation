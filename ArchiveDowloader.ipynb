{
 "cells": [
  {
   "cell_type": "code",
   "execution_count": 3,
   "id": "initial_id",
   "metadata": {
    "collapsed": true,
    "ExecuteTime": {
     "end_time": "2023-09-28T11:40:03.249894900Z",
     "start_time": "2023-09-28T11:39:56.449993500Z"
    }
   },
   "outputs": [
    {
     "name": "stdout",
     "output_type": "stream",
     "text": [
      "Downloaded: C:\\Users\\Simon\\Desktop\\CBG\\downloaded_papers\\[PDF] usenix.org.pdf\n"
     ]
    },
    {
     "ename": "PermissionError",
     "evalue": "[Errno 13] Permission denied: 'C:\\\\Users\\\\Simon\\\\Desktop\\\\CBG\\\\downloaded_papers\\\\[PDF] thecvf.com.pdf'",
     "output_type": "error",
     "traceback": [
      "\u001B[1;31m---------------------------------------------------------------------------\u001B[0m",
      "\u001B[1;31mPermissionError\u001B[0m                           Traceback (most recent call last)",
      "Cell \u001B[1;32mIn[3], line 49\u001B[0m\n\u001B[0;32m     46\u001B[0m             pdf_save_path \u001B[38;5;241m=\u001B[39m os\u001B[38;5;241m.\u001B[39mpath\u001B[38;5;241m.\u001B[39mjoin(output_folder, pdf_filename)\n\u001B[0;32m     48\u001B[0m             \u001B[38;5;66;03m# Download the PDF\u001B[39;00m\n\u001B[1;32m---> 49\u001B[0m             \u001B[43mdownload_pdf\u001B[49m\u001B[43m(\u001B[49m\u001B[43mpdf_url\u001B[49m\u001B[43m,\u001B[49m\u001B[43m \u001B[49m\u001B[43mpdf_save_path\u001B[49m\u001B[43m)\u001B[49m\n\u001B[0;32m     50\u001B[0m             \u001B[38;5;28;01mbreak\u001B[39;00m  \u001B[38;5;66;03m# Download the first PDF link found\u001B[39;00m\n\u001B[0;32m     52\u001B[0m \u001B[38;5;28;01melse\u001B[39;00m:\n",
      "Cell \u001B[1;32mIn[3], line 10\u001B[0m, in \u001B[0;36mdownload_pdf\u001B[1;34m(pdf_url, save_path)\u001B[0m\n\u001B[0;32m      8\u001B[0m response \u001B[38;5;241m=\u001B[39m requests\u001B[38;5;241m.\u001B[39mget(pdf_url)\n\u001B[0;32m      9\u001B[0m \u001B[38;5;28;01mif\u001B[39;00m response\u001B[38;5;241m.\u001B[39mstatus_code \u001B[38;5;241m==\u001B[39m \u001B[38;5;241m200\u001B[39m:\n\u001B[1;32m---> 10\u001B[0m     \u001B[38;5;28;01mwith\u001B[39;00m \u001B[38;5;28;43mopen\u001B[39;49m\u001B[43m(\u001B[49m\u001B[43msave_path\u001B[49m\u001B[43m,\u001B[49m\u001B[43m \u001B[49m\u001B[38;5;124;43m'\u001B[39;49m\u001B[38;5;124;43mwb\u001B[39;49m\u001B[38;5;124;43m'\u001B[39;49m\u001B[43m)\u001B[49m \u001B[38;5;28;01mas\u001B[39;00m pdf_file:\n\u001B[0;32m     11\u001B[0m         pdf_file\u001B[38;5;241m.\u001B[39mwrite(response\u001B[38;5;241m.\u001B[39mcontent)\n\u001B[0;32m     12\u001B[0m         \u001B[38;5;28mprint\u001B[39m(\u001B[38;5;124mf\u001B[39m\u001B[38;5;124m\"\u001B[39m\u001B[38;5;124mDownloaded: \u001B[39m\u001B[38;5;132;01m{\u001B[39;00msave_path\u001B[38;5;132;01m}\u001B[39;00m\u001B[38;5;124m\"\u001B[39m)\n",
      "File \u001B[1;32m~\\PycharmProjects\\CBGproject\\venv\\lib\\site-packages\\IPython\\core\\interactiveshell.py:286\u001B[0m, in \u001B[0;36m_modified_open\u001B[1;34m(file, *args, **kwargs)\u001B[0m\n\u001B[0;32m    279\u001B[0m \u001B[38;5;28;01mif\u001B[39;00m file \u001B[38;5;129;01min\u001B[39;00m {\u001B[38;5;241m0\u001B[39m, \u001B[38;5;241m1\u001B[39m, \u001B[38;5;241m2\u001B[39m}:\n\u001B[0;32m    280\u001B[0m     \u001B[38;5;28;01mraise\u001B[39;00m \u001B[38;5;167;01mValueError\u001B[39;00m(\n\u001B[0;32m    281\u001B[0m         \u001B[38;5;124mf\u001B[39m\u001B[38;5;124m\"\u001B[39m\u001B[38;5;124mIPython won\u001B[39m\u001B[38;5;124m'\u001B[39m\u001B[38;5;124mt let you open fd=\u001B[39m\u001B[38;5;132;01m{\u001B[39;00mfile\u001B[38;5;132;01m}\u001B[39;00m\u001B[38;5;124m by default \u001B[39m\u001B[38;5;124m\"\u001B[39m\n\u001B[0;32m    282\u001B[0m         \u001B[38;5;124m\"\u001B[39m\u001B[38;5;124mas it is likely to crash IPython. If you know what you are doing, \u001B[39m\u001B[38;5;124m\"\u001B[39m\n\u001B[0;32m    283\u001B[0m         \u001B[38;5;124m\"\u001B[39m\u001B[38;5;124myou can use builtins\u001B[39m\u001B[38;5;124m'\u001B[39m\u001B[38;5;124m open.\u001B[39m\u001B[38;5;124m\"\u001B[39m\n\u001B[0;32m    284\u001B[0m     )\n\u001B[1;32m--> 286\u001B[0m \u001B[38;5;28;01mreturn\u001B[39;00m io_open(file, \u001B[38;5;241m*\u001B[39margs, \u001B[38;5;241m*\u001B[39m\u001B[38;5;241m*\u001B[39mkwargs)\n",
      "\u001B[1;31mPermissionError\u001B[0m: [Errno 13] Permission denied: 'C:\\\\Users\\\\Simon\\\\Desktop\\\\CBG\\\\downloaded_papers\\\\[PDF] thecvf.com.pdf'"
     ]
    }
   ],
   "source": [
    "import os\n",
    "import openpyxl\n",
    "import requests\n",
    "from bs4 import BeautifulSoup\n",
    "\n",
    "# Function to download a PDF from a given URL\n",
    "def download_pdf(pdf_url, save_path):\n",
    "    response = requests.get(pdf_url)\n",
    "    if response.status_code == 200:\n",
    "        with open(save_path, 'wb') as pdf_file:\n",
    "            pdf_file.write(response.content)\n",
    "            print(f\"Downloaded: {save_path}\")\n",
    "    else:\n",
    "        # Print both the status code and its description\n",
    "        print(f\"Failed to download: {save_path}\")\n",
    "        print(f\"Status Code: {response.status_code} ({response.reason})\")\n",
    "\n",
    "# Path to your Excel file\n",
    "excel_file_path = fr'C:\\Users\\Simon\\Desktop\\CBG\\ReadingTaskAll.xlsx'\n",
    "# Output folder for PDFs\n",
    "output_folder = fr'C:\\Users\\Simon\\Desktop\\CBG\\downloaded_papers'\n",
    "\n",
    "# Load the Excel file\n",
    "workbook = openpyxl.load_workbook(excel_file_path)\n",
    "sheet = workbook.active\n",
    "\n",
    "# Loop through rows and extract BibTeX citations\n",
    "for row in sheet.iter_rows(min_row=2, values_only=True):\n",
    "    bibtex_citation = row[10]  # Access the 11th column (index 10)\n",
    "\n",
    "    # Search for the article on Google Scholar\n",
    "    search_url = f\"https://scholar.google.com/scholar?q={bibtex_citation}\"\n",
    "    response = requests.get(search_url)\n",
    "\n",
    "    if response.status_code == 200:\n",
    "        soup = BeautifulSoup(response.text, 'html.parser')\n",
    "        links = soup.find_all('a', href=True)\n",
    "\n",
    "        for link in links:\n",
    "            href = link.get('href')\n",
    "            if href.endswith('.pdf'):\n",
    "                pdf_url = href\n",
    "                # Create a filename based on the article's title\n",
    "                title = link.text\n",
    "                pdf_filename = f\"{title}.pdf\"\n",
    "                pdf_save_path = os.path.join(output_folder, pdf_filename)\n",
    "\n",
    "                # Download the PDF\n",
    "                download_pdf(pdf_url, pdf_save_path)\n",
    "                break  # Download the first PDF link found\n",
    "\n",
    "    else:\n",
    "        print(f\"Failed to search for: {bibtex_citation}\")\n",
    "        print(f\"Status Code: {response.status_code} ({response.reason})\")\n",
    "\n",
    "# Close the Excel file\n",
    "workbook.close()\n"
   ]
  },
  {
   "cell_type": "code",
   "execution_count": null,
   "outputs": [],
   "source": [],
   "metadata": {
    "collapsed": false
   },
   "id": "47493b7ae2e40098"
  }
 ],
 "metadata": {
  "kernelspec": {
   "display_name": "Python 3",
   "language": "python",
   "name": "python3"
  },
  "language_info": {
   "codemirror_mode": {
    "name": "ipython",
    "version": 2
   },
   "file_extension": ".py",
   "mimetype": "text/x-python",
   "name": "python",
   "nbconvert_exporter": "python",
   "pygments_lexer": "ipython2",
   "version": "2.7.6"
  }
 },
 "nbformat": 4,
 "nbformat_minor": 5
}
