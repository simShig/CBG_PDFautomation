{
 "cells": [
  {
   "cell_type": "code",
   "execution_count": 13,
   "id": "initial_id",
   "metadata": {
    "collapsed": true,
    "ExecuteTime": {
     "end_time": "2023-10-14T18:41:01.909737700Z",
     "start_time": "2023-10-14T18:40:57.048244500Z"
    }
   },
   "outputs": [],
   "source": [
    "import By\n",
    "##CHROME SERVICE UPDATE##\n",
    "from selenium import webdriver\n",
    "from selenium.webdriver.chrome.service import Service as ChromeService\n",
    "from webdriver_manager.chrome import ChromeDriverManager\n",
    "# \n",
    "driver = webdriver.Chrome(service=ChromeService(ChromeDriverManager().install()))\n",
    "driver.close()\n"
   ]
  },
  {
   "cell_type": "code",
   "execution_count": 12,
   "outputs": [],
   "source": [
    "##CHROMEDRIVER SERVICE CHECK##\n",
    "\n",
    "from selenium import webdriver\n",
    "import time\n",
    " \n",
    "driver = webdriver.Chrome()\n",
    "driver.get(\"https://google.com\")\n",
    "time.sleep(5)\n",
    "driver.close()"
   ],
   "metadata": {
    "collapsed": false,
    "ExecuteTime": {
     "end_time": "2023-10-14T18:35:23.839998Z",
     "start_time": "2023-10-14T18:35:13.804806800Z"
    }
   },
   "id": "828c656afe01675c"
  },
  {
   "cell_type": "code",
   "execution_count": 17,
   "outputs": [
    {
     "name": "stdout",
     "output_type": "stream",
     "text": [
      "https://openaccess.thecvf.com/content/ICCV2021/papers/Hu_Naturalistic_Physical_Adversarial_Patch_for_Object_Detectors_ICCV_2021_paper.pdf\n"
     ]
    }
   ],
   "source": [
    "##single hardcoded part - from query to printed url##\n",
    "import time\n",
    "from selenium import webdriver\n",
    "from selenium.webdriver.common.keys import Keys\n",
    "\n",
    "# Step 1: Open Google Scholar and search for the article\n",
    "query = \"Naturalistic physical adversarial patch for object detectors\"\n",
    "driver = webdriver.Chrome()\n",
    "driver.get(\"https://scholar.google.com\")\n",
    "time.sleep(2) # Let the user actually see something!\n",
    "search_box = driver.find_element(By.NAME,'q')\n",
    "time.sleep(2) # Let the user actually see something!\n",
    "search_box.send_keys(query)\n",
    "time.sleep(2) # Let the user actually see something!\n",
    "search_box.send_keys(Keys.RETURN)\n",
    "\n",
    "# Step 2: Find the \".pdf\" attribute in search results\n",
    "pdf_link = driver.find_element(By.CSS_SELECTOR,'a[href$=\".pdf\"]')     \n",
    "#.find_elements_by_css_selector('a[href$=\".pdf\"]')\n",
    "\n",
    "# Step 3: Print the found PDF links\n",
    "print(pdf_link.get_attribute(\"href\"))\n",
    "\n",
    "# Close the browser\n",
    "driver.quit()\n"
   ],
   "metadata": {
    "collapsed": false,
    "ExecuteTime": {
     "end_time": "2023-10-14T18:49:36.674320500Z",
     "start_time": "2023-10-14T18:49:23.116628100Z"
    }
   },
   "id": "c87a020dcfc0c0a4"
  },
  {
   "cell_type": "code",
   "execution_count": null,
   "outputs": [],
   "source": [
    "## using the code iterating through the excel file##"
   ],
   "metadata": {
    "collapsed": false
   },
   "id": "11a71a52d7f7c269"
  },
  {
   "cell_type": "code",
   "execution_count": 28,
   "outputs": [
    {
     "name": "stdout",
     "output_type": "stream",
     "text": [
      "~~~ROW 27 - send keys(bibtex)  DONE~~~\n",
      "~~~ROW 29 - send keys(RETURN) - DONE~~~\n",
      "https://www.usenix.org/system/files/sec23summer_123-zhu-prepub.pdf\n",
      "~~~ROW 52 - inside IF statment - DONE~~~\n",
      "~~~ROW 56 - os.path.join - DONE~~~\n",
      "~~~ROW 61 - Finished writing content - DONE~~~\n",
      "~~~ROW 27 - send keys(bibtex)  DONE~~~\n",
      "~~~ROW 29 - send keys(RETURN) - DONE~~~\n",
      " got StaleElementReferenceException\n",
      "~~~ROW 27 - send keys(bibtex)  DONE~~~\n",
      "~~~ROW 29 - send keys(RETURN) - DONE~~~\n",
      "http://openaccess.thecvf.com/content/CVPR2022/papers/Zhu_Infrared_Invisible_Clothing_Hiding_From_Infrared_Detectors_at_Multiple_Angles_CVPR_2022_paper.pdf\n",
      "~~~ROW 52 - inside IF statment - DONE~~~\n",
      "~~~ROW 56 - os.path.join - DONE~~~\n",
      "~~~ROW 61 - Finished writing content - DONE~~~\n",
      "~~~ROW 27 - send keys(bibtex)  DONE~~~\n",
      "~~~ROW 29 - send keys(RETURN) - DONE~~~\n",
      "https://openaccess.thecvf.com/content/CVPR2022/papers/Hu_Adversarial_Texture_for_Fooling_Person_Detectors_in_the_Physical_World_CVPR_2022_paper.pdf\n",
      "~~~ROW 52 - inside IF statment - DONE~~~\n",
      "~~~ROW 56 - os.path.join - DONE~~~\n",
      "~~~ROW 61 - Finished writing content - DONE~~~\n",
      "~~~ROW 27 - send keys(bibtex)  DONE~~~\n",
      "~~~ROW 29 - send keys(RETURN) - DONE~~~\n",
      "http://openaccess.thecvf.com/content/CVPR2022/papers/Suryanto_DTA_Physical_Camouflage_Attacks_Using_Differentiable_Transformation_Network_CVPR_2022_paper.pdf\n",
      "~~~ROW 52 - inside IF statment - DONE~~~\n",
      "~~~ROW 56 - os.path.join - DONE~~~\n",
      "~~~ROW 61 - Finished writing content - DONE~~~\n",
      "~~~ROW 27 - send keys(bibtex)  DONE~~~\n",
      "~~~ROW 29 - send keys(RETURN) - DONE~~~\n",
      " got StaleElementReferenceException\n",
      "~~~ROW 27 - send keys(bibtex)  DONE~~~\n",
      "~~~ROW 29 - send keys(RETURN) - DONE~~~\n",
      "https://www.usenix.org/system/files/sec21-lovisotto.pdf\n",
      "~~~ROW 52 - inside IF statment - DONE~~~\n",
      "~~~ROW 56 - os.path.join - DONE~~~\n",
      "~~~ROW 61 - Finished writing content - DONE~~~\n",
      "~~~ROW 27 - send keys(bibtex)  DONE~~~\n",
      "~~~ROW 29 - send keys(RETURN) - DONE~~~\n",
      "https://openaccess.thecvf.com/content/ICCV2021/papers/Hu_Naturalistic_Physical_Adversarial_Patch_for_Object_Detectors_ICCV_2021_paper.pdf\n",
      "~~~ROW 52 - inside IF statment - DONE~~~\n",
      "~~~ROW 56 - os.path.join - DONE~~~\n",
      "~~~ROW 61 - Finished writing content - DONE~~~\n",
      "~~~ROW 27 - send keys(bibtex)  DONE~~~\n",
      "~~~ROW 29 - send keys(RETURN) - DONE~~~\n",
      " got StaleElementReferenceException\n",
      "~~~ROW 27 - send keys(bibtex)  DONE~~~\n",
      "~~~ROW 29 - send keys(RETURN) - DONE~~~\n",
      " got StaleElementReferenceException\n",
      "~~~ROW 27 - send keys(bibtex)  DONE~~~\n",
      "~~~ROW 29 - send keys(RETURN) - DONE~~~\n",
      "https://campar.in.tum.de/pub/paschali2018miccai/paschali2018miccai.pdf\n",
      "~~~ROW 52 - inside IF statment - DONE~~~\n",
      "~~~ROW 56 - os.path.join - DONE~~~\n",
      "~~~ROW 61 - Finished writing content - DONE~~~\n",
      "~~~ROW 27 - send keys(bibtex)  DONE~~~\n",
      "~~~ROW 29 - send keys(RETURN) - DONE~~~\n",
      "https://ieeexplore.ieee.org/iel7/6488907/9447294/09154468.pdf\n",
      "~~~ROW 27 - send keys(bibtex)  DONE~~~\n",
      "~~~ROW 29 - send keys(RETURN) - DONE~~~\n",
      " got StaleElementReferenceException\n",
      "~~~ROW 27 - send keys(bibtex)  DONE~~~\n",
      "~~~ROW 29 - send keys(RETURN) - DONE~~~\n",
      " got StaleElementReferenceException\n",
      "~~~ROW 27 - send keys(bibtex)  DONE~~~\n",
      "~~~ROW 29 - send keys(RETURN) - DONE~~~\n",
      "https://ieeexplore.ieee.org/iel7/9145942/9151459/09151572.pdf\n",
      "~~~ROW 27 - send keys(bibtex)  DONE~~~\n",
      "~~~ROW 29 - send keys(RETURN) - DONE~~~\n",
      " got StaleElementReferenceException\n",
      "~~~ROW 27 - send keys(bibtex)  DONE~~~\n",
      "~~~ROW 29 - send keys(RETURN) - DONE~~~\n",
      " got StaleElementReferenceException\n",
      "~~~ROW 27 - send keys(bibtex)  DONE~~~\n",
      "~~~ROW 29 - send keys(RETURN) - DONE~~~\n",
      " got StaleElementReferenceException\n",
      "~~~ROW 27 - send keys(bibtex)  DONE~~~\n",
      "~~~ROW 29 - send keys(RETURN) - DONE~~~\n",
      " got StaleElementReferenceException\n",
      "~~~ROW 27 - send keys(bibtex)  DONE~~~\n",
      "~~~ROW 29 - send keys(RETURN) - DONE~~~\n",
      " got StaleElementReferenceException\n",
      "~~~ROW 27 - send keys(bibtex)  DONE~~~\n",
      "~~~ROW 29 - send keys(RETURN) - DONE~~~\n",
      " got StaleElementReferenceException\n"
     ]
    },
    {
     "ename": "KeyboardInterrupt",
     "evalue": "",
     "output_type": "error",
     "traceback": [
      "\u001B[1;31m---------------------------------------------------------------------------\u001B[0m",
      "\u001B[1;31mKeyboardInterrupt\u001B[0m                         Traceback (most recent call last)",
      "Cell \u001B[1;32mIn[28], line 24\u001B[0m\n\u001B[0;32m     21\u001B[0m driver \u001B[38;5;241m=\u001B[39m webdriver\u001B[38;5;241m.\u001B[39mChrome()\n\u001B[0;32m     23\u001B[0m \u001B[38;5;28;01mfor\u001B[39;00m row \u001B[38;5;129;01min\u001B[39;00m sheet\u001B[38;5;241m.\u001B[39miter_rows(min_row\u001B[38;5;241m=\u001B[39m\u001B[38;5;241m2\u001B[39m, values_only\u001B[38;5;241m=\u001B[39m\u001B[38;5;28;01mTrue\u001B[39;00m):\n\u001B[1;32m---> 24\u001B[0m     \u001B[43mtime\u001B[49m\u001B[38;5;241;43m.\u001B[39;49m\u001B[43msleep\u001B[49m\u001B[43m(\u001B[49m\u001B[38;5;241;43m2\u001B[39;49m\u001B[43m)\u001B[49m  \u001B[38;5;66;03m# Let the user actually see something!\u001B[39;00m\n\u001B[0;32m     25\u001B[0m     bibtex \u001B[38;5;241m=\u001B[39m row[\u001B[38;5;241m10\u001B[39m]  \u001B[38;5;66;03m# Assuming BibTeX is in column K\u001B[39;00m\n\u001B[0;32m     26\u001B[0m     driver\u001B[38;5;241m.\u001B[39mget(\u001B[38;5;124m\"\u001B[39m\u001B[38;5;124mhttps://scholar.google.com\u001B[39m\u001B[38;5;124m\"\u001B[39m)\n",
      "\u001B[1;31mKeyboardInterrupt\u001B[0m: "
     ]
    }
   ],
   "source": [
    "from selenium.common import NoSuchElementException, StaleElementReferenceException\n",
    "##First try - from table to download##\n",
    "\n",
    "import time\n",
    "import openpyxl\n",
    "import os\n",
    "import requests\n",
    "from selenium import webdriver\n",
    "from selenium.webdriver.common.keys import Keys\n",
    "\n",
    "# Load the Excel file\n",
    "excel_file_path = fr'C:\\Users\\Simon\\Desktop\\CBG\\ReadingTaskAll.xlsx'\n",
    "wb = openpyxl.load_workbook(excel_file_path)\n",
    "sheet = wb.active\n",
    "\n",
    "# Create an output directory for PDFs\n",
    "output_dir = \"PDFs\"\n",
    "os.makedirs(output_dir, exist_ok=True)\n",
    "\n",
    "# Step 1: Open Google Scholar and search for each article\n",
    "driver = webdriver.Chrome()\n",
    "\n",
    "for row in sheet.iter_rows(min_row=2, values_only=True):\n",
    "    time.sleep(2)  # Let the user actually see something!\n",
    "    bibtex = row[10]  # Assuming BibTeX is in column K\n",
    "    driver.get(\"https://scholar.google.com\")\n",
    "    time.sleep(1)  # Let the user actually see something!\n",
    "    search_box = driver.find_element(By.NAME,'q')\n",
    "    search_box.send_keys(bibtex)\n",
    "    print(\"~~~ROW 27 - send keys(bibtex)  DONE~~~\")     ##4DEBUG\n",
    "    # search_box.send_keys(Keys.RETURN)\n",
    "    print(\"~~~ROW 29 - send keys(RETURN) - DONE~~~\")    ##4DEBUG\n",
    "    time.sleep(1)  # Let the user actually see something!\n",
    "\n",
    "    # Step 2: Find the \".pdf\" attribute in search results\n",
    "    try:\n",
    "        pdf_link = driver.find_element(By.CSS_SELECTOR,'a[href$=\".pdf\"]')  \n",
    "    except NoSuchElementException:\n",
    "        pass  # If not found, continue to the next step\n",
    "    if pdf_link is None:\n",
    "        try:\n",
    "            pdf_link = driver.find_element_by_css_selector('a[href*=\"/pdf/\"]')\n",
    "        except NoSuchElementException:\n",
    "            pass  # Handle the case where no PDF link is found\n",
    "    if pdf_link:\n",
    "        try:\n",
    "            print(pdf_link.get_attribute(\"href\"))\n",
    "        except StaleElementReferenceException:\n",
    "            print(\" got StaleElementReferenceException\")\n",
    "            continue           ##couldnt find the file for \"/pdf\" (second row)\n",
    "    else:\n",
    "        print(\"No PDF link found\")\n",
    "\n",
    "    # Step 3: Download the PDFs and save them to the output directory\n",
    "    pdf_url = pdf_link.get_attribute(\"href\")\n",
    "    response = requests.get(pdf_url)\n",
    "    if response.status_code == 200:\n",
    "        print(\"~~~ROW 52 - inside IF statment - DONE~~~\")    ##4DEBUG\n",
    "\n",
    "        # Get the file name from the URL and save it to the output directory\n",
    "        pdf_filename = os.path.join(output_dir, os.path.basename(pdf_url))\n",
    "        print(\"~~~ROW 56 - os.path.join - DONE~~~\")    ##4DEBUG\n",
    "\n",
    "        with open(pdf_filename, \"wb\") as pdf_file:\n",
    "            pdf_file.write(response.content)\n",
    "            print(\"~~~ROW 61 - Finished writing content - DONE~~~\")    ##4DEBUG\n",
    "\n",
    "# Close the browser\n",
    "driver.quit()\n",
    "\n",
    "# Close the Excel file\n",
    "wb.close()\n"
   ],
   "metadata": {
    "collapsed": false,
    "ExecuteTime": {
     "end_time": "2023-10-14T19:51:14.269009Z",
     "start_time": "2023-10-14T19:49:08.700810600Z"
    }
   },
   "id": "7d2590f09d1e684c"
  },
  {
   "cell_type": "code",
   "execution_count": null,
   "outputs": [],
   "source": [],
   "metadata": {
    "collapsed": false
   },
   "id": "fdaf12527ebdbc2c"
  }
 ],
 "metadata": {
  "kernelspec": {
   "display_name": "Python 3",
   "language": "python",
   "name": "python3"
  },
  "language_info": {
   "codemirror_mode": {
    "name": "ipython",
    "version": 2
   },
   "file_extension": ".py",
   "mimetype": "text/x-python",
   "name": "python",
   "nbconvert_exporter": "python",
   "pygments_lexer": "ipython2",
   "version": "2.7.6"
  }
 },
 "nbformat": 4,
 "nbformat_minor": 5
}
