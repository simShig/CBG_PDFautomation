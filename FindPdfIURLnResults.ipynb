{
 "cells": [
  {
   "cell_type": "code",
   "execution_count": 13,
   "id": "initial_id",
   "metadata": {
    "collapsed": true,
    "ExecuteTime": {
     "end_time": "2023-10-14T18:41:01.909737700Z",
     "start_time": "2023-10-14T18:40:57.048244500Z"
    }
   },
   "outputs": [],
   "source": [
    "import By\n",
    "##CHROME SERVICE UPDATE##\n",
    "from selenium import webdriver\n",
    "from selenium.webdriver.chrome.service import Service as ChromeService\n",
    "from webdriver_manager.chrome import ChromeDriverManager\n",
    "# \n",
    "driver = webdriver.Chrome(service=ChromeService(ChromeDriverManager().install()))\n",
    "driver.close()\n"
   ]
  },
  {
   "cell_type": "code",
   "execution_count": 12,
   "outputs": [],
   "source": [
    "##CHROMEDRIVER SERVICE CHECK##\n",
    "\n",
    "from selenium import webdriver\n",
    "import time\n",
    " \n",
    "driver = webdriver.Chrome()\n",
    "driver.get(\"https://google.com\")\n",
    "time.sleep(5)\n",
    "driver.close()"
   ],
   "metadata": {
    "collapsed": false,
    "ExecuteTime": {
     "end_time": "2023-10-14T18:35:23.839998Z",
     "start_time": "2023-10-14T18:35:13.804806800Z"
    }
   },
   "id": "828c656afe01675c"
  },
  {
   "cell_type": "code",
   "execution_count": 17,
   "outputs": [
    {
     "name": "stdout",
     "output_type": "stream",
     "text": [
      "https://openaccess.thecvf.com/content/ICCV2021/papers/Hu_Naturalistic_Physical_Adversarial_Patch_for_Object_Detectors_ICCV_2021_paper.pdf\n"
     ]
    }
   ],
   "source": [
    "##iterable part##\n",
    "import time\n",
    "from selenium import webdriver\n",
    "from selenium.webdriver.common.keys import Keys\n",
    "\n",
    "# Step 1: Open Google Scholar and search for the article\n",
    "query = \"Naturalistic physical adversarial patch for object detectors\"\n",
    "driver = webdriver.Chrome()\n",
    "driver.get(\"https://scholar.google.com\")\n",
    "time.sleep(2) # Let the user actually see something!\n",
    "search_box = driver.find_element(By.NAME,'q')\n",
    "time.sleep(2) # Let the user actually see something!\n",
    "search_box.send_keys(query)\n",
    "time.sleep(2) # Let the user actually see something!\n",
    "search_box.send_keys(Keys.RETURN)\n",
    "\n",
    "# Step 2: Find the \".pdf\" attribute in search results\n",
    "pdf_link = driver.find_element(By.CSS_SELECTOR,'a[href$=\".pdf\"]')     \n",
    "#.find_elements_by_css_selector('a[href$=\".pdf\"]')\n",
    "\n",
    "# Step 3: Print the found PDF links\n",
    "print(pdf_link.get_attribute(\"href\"))\n",
    "\n",
    "# Close the browser\n",
    "driver.quit()\n"
   ],
   "metadata": {
    "collapsed": false,
    "ExecuteTime": {
     "end_time": "2023-10-14T18:49:36.674320500Z",
     "start_time": "2023-10-14T18:49:23.116628100Z"
    }
   },
   "id": "c87a020dcfc0c0a4"
  },
  {
   "cell_type": "code",
   "execution_count": null,
   "outputs": [],
   "source": [
    "\n"
   ],
   "metadata": {
    "collapsed": false
   },
   "id": "11a71a52d7f7c269"
  }
 ],
 "metadata": {
  "kernelspec": {
   "display_name": "Python 3",
   "language": "python",
   "name": "python3"
  },
  "language_info": {
   "codemirror_mode": {
    "name": "ipython",
    "version": 2
   },
   "file_extension": ".py",
   "mimetype": "text/x-python",
   "name": "python",
   "nbconvert_exporter": "python",
   "pygments_lexer": "ipython2",
   "version": "2.7.6"
  }
 },
 "nbformat": 4,
 "nbformat_minor": 5
}
